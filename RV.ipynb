{
 "cells": [
  {
   "cell_type": "code",
   "execution_count": 1,
   "metadata": {},
   "outputs": [],
   "source": [
    "import pandas as pd\n",
    "import os"
   ]
  },
  {
   "cell_type": "code",
   "execution_count": null,
   "metadata": {},
   "outputs": [],
   "source": [
    "from IPython.core.display import display, HTML\n",
    "display(HTML(\"<style>.container {width:90% !important;}</style>\"))"
   ]
  },
  {
   "cell_type": "code",
   "execution_count": null,
   "metadata": {},
   "outputs": [],
   "source": [
    "## ITA 1.1\n",
    "\n",
    "\n",
    "import pandas as pd\n",
    "import os\n",
    "from unicodedata import normalize\n",
    "import pandas_profiling as pp\n",
    "import openpyxl\n",
    "\n",
    "class Analise:   \n",
    "      \n",
    "    \n",
    "    \n",
    "    def __init__(self):\n",
    "        \n",
    "             \n",
    "        self.pasta_padrao = 'C:/Users/mkonj/Python/arquivosDados' \n",
    "        self.arquivo = None\n",
    "        self.df = None\n",
    "        self.c = None\n",
    "        self.p = None\n",
    "        self.planilhas = None\n",
    "        \n",
    "\n",
    "        \n",
    "        \n",
    "    pass\n",
    "    \n",
    "    def verificar_pasta(self):\n",
    "        #import os\n",
    "        pasta_padrao = os.chdir(self.pasta_padrao)\n",
    "        os.getcwd()\n",
    "        print('A pasta padrão de arquivos está configurado para o seguinte endereço: {}. ' .format(self.pasta_padrao))\n",
    "        print('')\n",
    "        return(pasta_padrao)\n",
    "    \n",
    "    def listar_arquivos_pasta_padrao(self):\n",
    "        #import os\n",
    "        os.chdir(self.pasta_padrao)\n",
    "        arquivos = os.listdir(self.pasta_padrao)\n",
    "        print('Os seguintes arquivos foram localizados na pasta padrão: ')\n",
    "    \n",
    "        \n",
    "        \n",
    "        for item in arquivos:\n",
    "            \n",
    "            print(item+';')\n",
    "   \n",
    "    def escolher_planilha(self):\n",
    "        \n",
    "        self.arquivo = input('Informe o nome do arquivo desejado: \\n')\n",
    "        self.arquivo = pd.ExcelFile(self.arquivo)\n",
    "        \n",
    "        self.planilhas = self.arquivo.sheet_names\n",
    "        \n",
    "        \n",
    "        \n",
    "        #wb= openpyxl.load_workbook(self.arquivo)\n",
    "        #planilhas = wb.sheetnames\n",
    "        print('\\nO arquivo selecionado possui a(s) seguinte(s) planilha(s):\\n')\n",
    "        \n",
    "        i=0\n",
    "        \n",
    "        for item in self.planilhas: \n",
    "            i=i + 1\n",
    "\n",
    "            print(item+';')\n",
    "        \n",
    "        if i>1:\n",
    "            print('\\nCom qual planilha você deseja trabalhar?')\n",
    "            self.planilha = input()\n",
    "            print('A planilha selecionada foi: {}' .format(self.planilha))\n",
    "                \n",
    "        else:\n",
    "            self.planilha=item\n",
    "            print('A planilha {} foi importada.' .format(self.planilha))\n",
    "                \n",
    "                         \n",
    "           \n",
    "        \n",
    "        \n",
    "        \n",
    "        \n",
    "        \n",
    "        \n",
    "    def importar_base(self):\n",
    "        \n",
    "        \n",
    "        os.chdir(self.pasta_padrao)\n",
    "        #os.getcwd()\n",
    "        \n",
    "        #self.arquivo = input('Informe o nome do arquivo desejado: ')\n",
    "        \n",
    "        try:\n",
    "            self.df = pd.read_excel(self.arquivo, sheet_name=self.planilha)\n",
    "            print('\\nFoi localizado o total de {} linhas e {} colunas. \\nArquivo importado com sucesso!!! '.format(self.df.shape[0],self.df.shape[1]))\n",
    "            #self.df.sheet_names\n",
    "                \n",
    "        \n",
    "        except:\n",
    "            print('O arquivo desejado não foi localizado na pasta padrão!!!')\n",
    "            \n",
    "\n",
    "    def mostrar_base(self):\n",
    "        \n",
    "        return(self.df)   \n",
    "    \n",
    "    \n",
    "    \n",
    "    def base_info(self):\n",
    "        print(\"Tamanho da base de dados: \",self.df.shape)\n",
    "        print(\"\\nQuantidade de valores nulos:\\n\",self.df.isnull().sum())\n",
    "        print(\"\\nTipo de dados de cada coluna:\\n\",self.df.dtypes)\n",
    "    \n",
    "        \n",
    "        \n",
    "    def tratar_cabecalho(self):\n",
    "        \n",
    "        self.c = self.df.columns\n",
    "        \n",
    "        \n",
    "        def remover_acentos(txt):\n",
    "            return normalize('NFKD', txt).encode('ASCII', 'ignore').decode('ASCII')\n",
    "\n",
    "            if __name__ == '__main__':\n",
    "                from doctest import testmod\n",
    "            testmod()\n",
    "\n",
    "        cabecalho = []\n",
    "    \n",
    "        for item in self.c:\n",
    "            item = remover_acentos(item)\n",
    "            #item =item[0].lower() +  item[1::]\n",
    "            item =item.lower() \n",
    "            item = item.replace(' ','_')\n",
    "            cabecalho.append(item)\n",
    "            \n",
    "        self.df = pd.read_excel(self.arquivo,sheet_name=self.planilha, names=cabecalho)\n",
    "        print('\\nO cabeçalho das colunas está dentro do padrão!!!\\n')\n",
    "        \n",
    "    def analise_descritiva(self):\n",
    "        titulo = input('Informe o título de sua análise:\\n')\n",
    "        report = pp.ProfileReport(self.df, title=titulo)\n",
    "        report.to_file(\"report.html\")\n",
    "        return(report)\n",
    "    \n",
    "\n",
    "        \n",
    "            \n",
    "        \n",
    "        \n",
    "   \n",
    "        \n",
    "        \n",
    "    \n",
    "        \n",
    "         \n",
    "rv = Analise()\n",
    "\n",
    "rv.verificar_pasta()\n",
    "rv.listar_arquivos_pasta_padrao()\n",
    "rv.escolher_planilha()\n",
    "rv.importar_base()\n",
    "rv.tratar_cabecalho()\n",
    "rv.mostrar_base()\n",
    "rv.analise_descritiva()\n",
    "\n",
    "            \n",
    "coor = Analise()        \n",
    "\n",
    "coor.verificar_pasta()\n",
    "coor.listar_arquivos_pasta_padrao()\n",
    "coor.escolher_planilha()\n",
    "coor.importar_base()\n",
    "coor.tratar_cabecalho()\n",
    "coor.mostrar_base()\n",
    "#Coor.analise_descritiva()\n",
    "\n",
    "     \n",
    "   \n",
    "        \n",
    "    \n",
    "    \n",
    "        \n",
    "         \n",
    "user = Analise()\n",
    "\n",
    "user.verificar_pasta()\n",
    "user.listar_arquivos_pasta_padrao()\n",
    "user.escolher_planilha()\n",
    "user.importar_base()\n",
    "user.tratar_cabecalho()\n",
    "user.mostrar_base()\n",
    "#user.analise_descritiva()\n",
    "#AUT.analise_descritiva()\n",
    "\n"
   ]
  },
  {
   "cell_type": "code",
   "execution_count": null,
   "metadata": {},
   "outputs": [],
   "source": [
    "caminho = 'C:/Users/mkonj/Python/arquivosDados/ModeloBase_COLARAQUI_V5_14042020_RelatórioAmerico.xlsm'"
   ]
  },
  {
   "cell_type": "markdown",
   "metadata": {},
   "source": [
    "# Importação e tratamento básico das bases do Relatório de Vistorias"
   ]
  },
  {
   "cell_type": "code",
   "execution_count": 1,
   "metadata": {
    "scrolled": true
   },
   "outputs": [
    {
     "name": "stdout",
     "output_type": "stream",
     "text": [
      "Foi localizado os seguintes arquivos:\n",
      "\n",
      "\n",
      "1 - ModeloBase_COLARAQUI_V5_14042020_RelatórioAmerico.xlsm;\n",
      "2 - Ordens de Serviço. 00001_RelatorioDeVistoria_17022020 - 2020-09-22T190844.816.xlsx;\n",
      "3 - Relatorio_De_Vistorias_Preventivas_v_Teste.xlsb;\n",
      "\n",
      "Com qual arquivo você deseja trabalhar?\n",
      "\n",
      "Ordens de Serviço. 00001_RelatorioDeVistoria_17022020 - 2020-09-22T190844.816.xlsx\n",
      "\n",
      "Foi localizado o total de 153236 linhas e 10 colunas. \n",
      "Planilha importada com sucesso!!! \n",
      "\n",
      "O cabeçalho das colunas está dentro do padrão!!!\n",
      "\n",
      "Tamanho da base de dados:  (153236, 10)\n",
      "\n",
      "Quantidade de valores nulos:\n",
      " numero_os                      0\n",
      "data_prevista                  0\n",
      "unidade_negocio                0\n",
      "denominacao_unidade_negocio    0\n",
      "fornecedor                     0\n",
      "site                           0\n",
      "estado_os                      0\n",
      "denominacao_estado_os          0\n",
      "usuario_ultima_modificacao     0\n",
      "data_ultima_modificacao        0\n",
      "dtype: int64\n",
      "\n",
      "Tipo de dados de cada coluna:\n",
      " numero_os                               int64\n",
      "data_prevista                  datetime64[ns]\n",
      "unidade_negocio                        object\n",
      "denominacao_unidade_negocio            object\n",
      "fornecedor                             object\n",
      "site                                   object\n",
      "estado_os                               int64\n",
      "denominacao_estado_os                  object\n",
      "usuario_ultima_modificacao             object\n",
      "data_ultima_modificacao        datetime64[ns]\n",
      "dtype: object\n",
      "\n",
      "O cabeçalho das colunas está dentro do padrão!!!\n",
      "\n",
      "Tamanho da base de dados:  (179, 8)\n",
      "\n",
      "Quantidade de valores nulos:\n",
      " unidade_negocio              0\n",
      "descricao_unidade_negocio    0\n",
      "coordenardor_responvel       0\n",
      "coordenardor_responvel.1     0\n",
      "apelido                      0\n",
      "id_usuario                   0\n",
      "regional                     0\n",
      "ddd                          0\n",
      "dtype: int64\n",
      "\n",
      "Tipo de dados de cada coluna:\n",
      " unidade_negocio              object\n",
      "descricao_unidade_negocio    object\n",
      "coordenardor_responvel       object\n",
      "coordenardor_responvel.1     object\n",
      "apelido                      object\n",
      "id_usuario                   object\n",
      "regional                     object\n",
      "ddd                          object\n",
      "dtype: object\n",
      "\n",
      "O cabeçalho das colunas está dentro do padrão!!!\n",
      "\n",
      "Tamanho da base de dados:  (4416, 10)\n",
      "\n",
      "Quantidade de valores nulos:\n",
      " usuario_ultima_modificacao       0\n",
      "nome_usuario                     0\n",
      "perfil_usuario                   0\n",
      "descricao_perfil_usuario         0\n",
      "fornecedor                     770\n",
      "descricao_fornecedor           770\n",
      "unnamed:_6                    4415\n",
      "unnamed:_7                    4415\n",
      "unnamed:_8                    4415\n",
      "unnamed:_9                    4415\n",
      "dtype: int64\n",
      "\n",
      "Tipo de dados de cada coluna:\n",
      " usuario_ultima_modificacao     object\n",
      "nome_usuario                   object\n",
      "perfil_usuario                 object\n",
      "descricao_perfil_usuario       object\n",
      "fornecedor                     object\n",
      "descricao_fornecedor           object\n",
      "unnamed:_6                    float64\n",
      "unnamed:_7                     object\n",
      "unnamed:_8                     object\n",
      "unnamed:_9                    float64\n",
      "dtype: object\n"
     ]
    }
   ],
   "source": [
    "import pandas as pd\n",
    "import os\n",
    "from unicodedata import normalize\n",
    "import pandas_profiling as pp\n",
    "import openpyxl\n",
    "\n",
    "class Relatorio_de_Vistorias:\n",
    "    \n",
    "    \n",
    "    def __init__(self,p):\n",
    "    \n",
    "        self.pasta_padrao = 'C:/Users/mkonj/Python/arquivosDados/ModeloBase_COLARAQUI_V5_14042020_RelatórioAmerico.xlsm'\n",
    "        self.df = None\n",
    "        self.arquivo = None\n",
    "        self.p = p\n",
    "        self.c = None\n",
    "        self.arquivo_bm = None\n",
    "        self.escolha = None\n",
    "    \n",
    "    def planilha_mensal(self):\n",
    "        \n",
    "        self.arquivo_bm = 'C:\\\\Users\\\\mkonj\\Python\\\\arquivosDados\\\\relatorio_de_vistorias'\n",
    "        self.arquivo_bm = os.chdir(self.arquivo_bm)\n",
    "\n",
    "        i=0\n",
    "    \n",
    "        print('Foi localizado os seguintes arquivos:\\n')\n",
    "        print('')\n",
    "        \n",
    "        for item in os.listdir(self.arquivo_bm):\n",
    "            i=i + 1\n",
    "            print(i,'-',item+';')\n",
    "        \n",
    "        \n",
    "        print('\\nCom qual arquivo você deseja trabalhar?\\n')\n",
    "        \n",
    "        self.escolha = input()\n",
    "        return(self.escolha)\n",
    "        \n",
    "        \n",
    "         \n",
    "        \n",
    "    def escolher_planilha(self):\n",
    "        \n",
    "        \n",
    "        if self.escolha == None:\n",
    "            \n",
    "            \n",
    "            self.arquivo = pd.ExcelFile(self.pasta_padrao)     \n",
    "            self.planilhas =  self.arquivo.sheet_names\n",
    "        \n",
    "        \n",
    "        \n",
    "        \n",
    "            print('\\nO arquivo selecionado possui a(s) seguinte(s) planilha(s):\\n')\n",
    "        \n",
    "            i=0\n",
    "        \n",
    "            for item in self.planilhas: \n",
    "                i=i + 1\n",
    "\n",
    "                print(item+';')\n",
    "        \n",
    "                if i>1:\n",
    "                \n",
    "                    print('\\nCom qual planilha você deseja trabalhar?')\n",
    "                \n",
    "                    self.planilha = input()\n",
    "                \n",
    "                    print('A planilha selecionada foi: {}' .format(self.planilha))\n",
    "                \n",
    "                         \n",
    "                \n",
    "                try:\n",
    "                    self.df = pd.read_excel(self.arquivo, sheet_name=self.planilha)\n",
    "                    print('\\nFoi localizado o total de {} linhas e {} colunas. \\nPlanilha importada com sucesso!!! '.format(self.df.shape[0],self.df.shape[1]))\n",
    "                    return(self.df)       \n",
    "        \n",
    "                except:\n",
    "                    print('A planilha selecionada não pode ser importada 1!!!')\n",
    "             \n",
    "        else:\n",
    "            try:\n",
    "                \n",
    "                self.df = pd.read_excel(self.escolha)\n",
    "                print('\\nFoi localizado o total de {} linhas e {} colunas. \\nPlanilha importada com sucesso!!! '.format(self.df.shape[0],self.df.shape[1]))\n",
    "                       \n",
    "\n",
    "            except:\n",
    "                    \n",
    "                print('A planilha selecionada não pode ser importada 2!!!')\n",
    "                            \n",
    "                \n",
    "                \n",
    "\n",
    "                \n",
    "                \n",
    "    \n",
    "    def planilha(self):\n",
    "        \n",
    "        self.arquivo = pd.ExcelFile(self.pasta_padrao)\n",
    "        self.df = pd.read_excel(self.arquivo,sheet_name=self.p)\n",
    "        \n",
    "        return(self.df)\n",
    "    \n",
    "        \n",
    "        \n",
    "    def tratar_cabecalho(self):\n",
    "        \n",
    "        self.c = self.df.columns\n",
    "        \n",
    "        \n",
    "        \n",
    "        def remover_acentos(txt):\n",
    "            \n",
    "            return normalize('NFKD', txt).encode('ASCII', 'ignore').decode('ASCII')\n",
    "\n",
    "            if __name__ == '__main__':\n",
    "                from doctest import testmod\n",
    "                testmod()\n",
    "\n",
    "        cabecalho = []\n",
    "    \n",
    "        for item in self.c:\n",
    "            item = remover_acentos(item)\n",
    "            #item =item[0].lower() +  item[1::]\n",
    "            item =item.lower() \n",
    "            item = item.replace(' ','_')\n",
    "            cabecalho.append(item)\n",
    "            \n",
    "        if self.escolha != None:\n",
    "            \n",
    "            try:\n",
    "                self.df = pd.read_excel(self.escolha, names=cabecalho)\n",
    "                print('\\nO cabeçalho das colunas está dentro do padrão!!!\\n')\n",
    "\n",
    "            except:\n",
    "                    \n",
    "                print('Após planilha o tratamento das colunas a planilha não pode ser importada!!!')\n",
    "            \n",
    "        else:\n",
    "            \n",
    "            try:\n",
    "                self.df = pd.read_excel(self.arquivo,sheet_name=self.p, names=cabecalho)\n",
    "                \n",
    "                print('\\nO cabeçalho das colunas está dentro do padrão!!!\\n')\n",
    "\n",
    "            except:\n",
    "                    \n",
    "                print('Após planilha o tratamento das colunas a planilha não pode ser importada!!!')\n",
    "         \n",
    "        \n",
    "        \n",
    "        \n",
    "    def base_info(self):\n",
    "\n",
    "        print(\"Tamanho da base de dados:\\n\",self.df.shape)\n",
    "        print(\"\\nQuantidade de valores nulos:\\n\",self.df.isnull().sum())\n",
    "        print(\"\\nTipo de dados de cada coluna:\\n\",self.df.dtypes)\n",
    "            \n",
    "    def analise_descritiva(self):\n",
    "            titulo = input('Informe o título de sua análise:\\n')\n",
    "            report = pp.ProfileReport(self.df, title=titulo)\n",
    "            report.to_file(titulo+\".html\")\n",
    "            return(report)\n",
    "    \n",
    "           \n",
    "            \n",
    "            \n",
    "            \n",
    "rv = Relatorio_de_Vistorias('BaseCoordenação')\n",
    "rv.planilha_mensal()\n",
    "#rv.planilha()\n",
    "rv.escolher_planilha()\n",
    "rv.tratar_cabecalho()\n",
    "rv.base_info()\n",
    "#rv.analise_descritiva()\n",
    "\n",
    "\n",
    "\n",
    "coor = Relatorio_de_Vistorias('Coordenador')\n",
    "\n",
    "coor.planilha()\n",
    "#coor.escolher_planilha()\n",
    "coor.tratar_cabecalho()\n",
    "coor.base_info()\n",
    "#coor.analise_descritiva()\n",
    "\n",
    "user = Relatorio_de_Vistorias('Usuarios2')\n",
    "\n",
    "user.planilha()\n",
    "#user.escolher_planilha()\n",
    "user.tratar_cabecalho()\n",
    "user.base_info()\n",
    "#user.analise_descritiva()\n"
   ]
  },
  {
   "cell_type": "code",
   "execution_count": null,
   "metadata": {
    "scrolled": true
   },
   "outputs": [],
   "source": [
    "#df.info()\n",
    "#coor_base.info()\n",
    "#user.info()"
   ]
  },
  {
   "cell_type": "code",
   "execution_count": null,
   "metadata": {},
   "outputs": [],
   "source": [
    "#df = pd.DataFrame(rv.df)\n",
    "#df\n",
    "type(rv.df)"
   ]
  },
  {
   "cell_type": "code",
   "execution_count": 42,
   "metadata": {},
   "outputs": [],
   "source": [
    "df = rv.df\n",
    "#coor_base = coor.df\n",
    "user = user.df\n"
   ]
  },
  {
   "cell_type": "code",
   "execution_count": null,
   "metadata": {},
   "outputs": [],
   "source": [
    "#convertendo os tipos das colunas para maior usabilidade e menor consumo de memoria\n",
    "df['numero_os'] = df['numero_os'].astype(str)\n",
    "df['estado_os'] = df['estado_os'].astype('category')\n",
    "df['denominacao_estado_os'] = rv.df['denominacao_estado_os'].astype('category')\n",
    "df['fornecedor'] = df['fornecedor'].astype('category')\n",
    "df['perfil_usuario'] = df['perfil_usuario'].astype('category')\n",
    "df['descricao_perfil_usuario'] = rv.df['descricao_perfil_usuario'].astype('category')\n",
    "df['coordenador'] = df['apelido'].astype('category')\n",
    "df['rede'] = df['rede'].astype('category')\n",
    "df['vidaos'] = df['vidaos'].astype('category')\n",
    "\n"
   ]
  },
  {
   "cell_type": "code",
   "execution_count": 78,
   "metadata": {},
   "outputs": [
    {
     "name": "stdout",
     "output_type": "stream",
     "text": [
      "A quantidade final de registros é de 153236 linhas e 17 colunas!\n",
      "Download Realizado com Sucesso(2020-09-25) as 19:15:20.240561 !!!\n"
     ]
    }
   ],
   "source": [
    "class Construir:\n",
    "    from datetime import datetime\n",
    "    \n",
    "       \n",
    "    def __init__ (self):\n",
    "        \n",
    "        self.df = rv.df\n",
    "        self.coor = coor.df\n",
    "        self.coor = user.df\n",
    "        \n",
    "    \n",
    "    def tratamento(self):\n",
    "        #df = rv.df\n",
    "        #coor_base = coor.df\n",
    "        #df = rv.df[rv.df.columns[0:10]]\n",
    "     \n",
    "    \n",
    "    \n",
    "        self.df = self.df.merge(user.df[['nome_usuario', 'perfil_usuario', 'descricao_perfil_usuario']], how='left',left_on='usuario_ultima_modificacao', right_on=user.df['usuario_ultima_modificacao'])\n",
    "        self.df = self.df.merge(coor.df[['apelido','unidade_negocio']], how='left',on='unidade_negocio')\n",
    "        self.df['rede'] = self.df['site'].str[0].str.lower()\n",
    "        \n",
    "        \n",
    "        \n",
    "    \n",
    "        def redes(site):    \n",
    "          \n",
    "            if site == 'm':\n",
    "                return 'MOVEL'\n",
    "                     \n",
    "        \n",
    "            elif site == 'f':\n",
    "                return 'FIXA'\n",
    "                   \n",
    "            elif site == 'v':\n",
    "                return 'VIVO2'\n",
    "                   \n",
    "            else:\n",
    "                return \"Verificar\"\n",
    "        \n",
    "    \n",
    "        self.df['rede'] = self.df['rede'].apply(redes)\n",
    "        return(self.df)\n",
    "        \n",
    "  \n",
    "    def type_dados(self):\n",
    "        \n",
    "           \n",
    "        \n",
    "        \n",
    "        self.df['numero_os'] = self.df['numero_os'].astype(str)\n",
    "        self.df['estado_os'] = self.df['estado_os'].astype(str)\n",
    "        self.df['denominacao_estado_os'] = rv.df['denominacao_estado_os'].astype(str)\n",
    "        self.df['fornecedor'] = self.df['fornecedor'].astype('category')\n",
    "        self.df['perfil_usuario'] = self.df['perfil_usuario'].astype('category')\n",
    "        self.df['coordenador'] = self.df['apelido'].astype('category')\n",
    "        self.df['rede'] = self.df['rede'].astype('category')\n",
    "        self.df['vidaos']= self.df['estado_os']+\" - \"+self.df['denominacao_estado_os']\n",
    "        self.df['vidaos'] = self.df['vidaos'].astype('category')\n",
    "        \n",
    "        return(self.df)\n",
    "\n",
    "    def validacao_final(self):\n",
    "        \n",
    "        if rv.df.shape[0] == self.df.shape[0]:\n",
    "            \n",
    "            print(\"A quantidade final de registros é de {} linhas e {} colunas!\".format(self.df.shape[0], self.df.shape[1]))\n",
    "        else:\n",
    "            \n",
    "            if rv.df.shape[0]-self.df.shape[0]< rv.df.shape[0]:\n",
    "                \n",
    "                print(\"Após tratamento, {} linhas de registro foram perdidas.\" .format(rv.df.shape[0]-self.df.shape[0]< rv.df.shape[0]))\n",
    "            \n",
    "            else:\n",
    "                \n",
    "                print(\"Após tratamento, {} linhas de registro foram adicionadas.\" .format(rv.df.shape[0]-self.df.shape[0]< rv.df.shape[0]))\n",
    "\n",
    "    def baixar_relatorio(self):\n",
    "        \n",
    "        colunas = ['numero_os', 'data_prevista', 'unidade_negocio',\n",
    "       'denominacao_unidade_negocio', 'fornecedor','usuario_ultima_modificacao',\n",
    "       'data_ultima_modificacao','perfil_usuario','apelido', 'rede', 'vidaos']\n",
    "        \n",
    "        try:\n",
    "\n",
    "            self.df.to_excel('automatização_relatorio_vistorias_BC.xlsx',index=False)\n",
    "            \n",
    "            self.df.to_excel('automatização_relatorio_vistorias.xlsx',columns=colunas,index=False)\n",
    "            \n",
    "            now = datetime.now()\n",
    "            \n",
    "            print(\"Download Realizado com Sucesso dia {} as {} !!!\". format(now.date(),now.time()))\n",
    "        \n",
    "        except:\n",
    "            \n",
    "            print(\"Não foi possível realizar o download. Caso o arquivo esteja aberto em sua area de trabalho, feche-o e tente novamente!\")\n",
    "\n",
    "\n",
    "c = Construir()\n",
    "\n",
    "c.tratamento()\n",
    "c.type_dados()\n",
    "c.validacao_final()\n",
    "c.baixar_relatorio()\n",
    "\n",
    "    \n",
    "\n"
   ]
  },
  {
   "cell_type": "code",
   "execution_count": 11,
   "metadata": {
    "scrolled": true
   },
   "outputs": [
    {
     "data": {
      "text/plain": [
       "(153236, 17)"
      ]
     },
     "execution_count": 11,
     "metadata": {},
     "output_type": "execute_result"
    }
   ],
   "source": [
    "c.df.shape"
   ]
  },
  {
   "cell_type": "code",
   "execution_count": 9,
   "metadata": {},
   "outputs": [
    {
     "ename": "NameError",
     "evalue": "name 'df' is not defined",
     "output_type": "error",
     "traceback": [
      "\u001b[1;31m---------------------------------------------------------------------------\u001b[0m",
      "\u001b[1;31mNameError\u001b[0m                                 Traceback (most recent call last)",
      "\u001b[1;32m<ipython-input-9-629914d6d1c7>\u001b[0m in \u001b[0;36m<module>\u001b[1;34m\u001b[0m\n\u001b[1;32m----> 1\u001b[1;33m \u001b[0mdf\u001b[0m\u001b[1;33m.\u001b[0m\u001b[0misnull\u001b[0m\u001b[1;33m(\u001b[0m\u001b[1;33m)\u001b[0m\u001b[1;33m.\u001b[0m\u001b[0msum\u001b[0m\u001b[1;33m(\u001b[0m\u001b[1;33m)\u001b[0m\u001b[1;33m\u001b[0m\u001b[1;33m\u001b[0m\u001b[0m\n\u001b[0m",
      "\u001b[1;31mNameError\u001b[0m: name 'df' is not defined"
     ]
    }
   ],
   "source": [
    "df.isnull().sum()"
   ]
  },
  {
   "cell_type": "code",
   "execution_count": null,
   "metadata": {},
   "outputs": [],
   "source": [
    "df.describe(include='all').T"
   ]
  },
  {
   "cell_type": "code",
   "execution_count": null,
   "metadata": {},
   "outputs": [],
   "source": [
    "df.info()"
   ]
  },
  {
   "cell_type": "code",
   "execution_count": null,
   "metadata": {},
   "outputs": [],
   "source": [
    "df = df.merge(user[['nome_usuario', 'perfil_usuario', 'descricao_perfil_usuario']], how='inner',left_on='usuario_ultima_modificacao', right_on=user['usuario_ultima_modificacao'])\n",
    "    "
   ]
  },
  {
   "cell_type": "code",
   "execution_count": null,
   "metadata": {},
   "outputs": [],
   "source": [
    "df['apelido'].value_counts()"
   ]
  },
  {
   "cell_type": "code",
   "execution_count": null,
   "metadata": {
    "scrolled": true
   },
   "outputs": [],
   "source": [
    "df = rv.df[rv.df.columns[0:10]]\n",
    "df = pd.merge(df,coor.df[['apelido']], how='left',left_on='unidade_negocio', right_on = coor.df['unidade_negocio'])"
   ]
  },
  {
   "cell_type": "code",
   "execution_count": null,
   "metadata": {},
   "outputs": [],
   "source": [
    "df.info()"
   ]
  },
  {
   "cell_type": "code",
   "execution_count": null,
   "metadata": {},
   "outputs": [],
   "source": [
    "df.columns"
   ]
  },
  {
   "cell_type": "code",
   "execution_count": null,
   "metadata": {},
   "outputs": [],
   "source": [
    "coor.df"
   ]
  },
  {
   "cell_type": "code",
   "execution_count": null,
   "metadata": {},
   "outputs": [],
   "source": [
    "coor.df[['unidade_negocio']]"
   ]
  },
  {
   "cell_type": "code",
   "execution_count": null,
   "metadata": {},
   "outputs": [],
   "source": [
    "df[df['numero_os'] == 49190768].count()"
   ]
  },
  {
   "cell_type": "code",
   "execution_count": null,
   "metadata": {},
   "outputs": [],
   "source": [
    "df.info()"
   ]
  },
  {
   "cell_type": "code",
   "execution_count": null,
   "metadata": {},
   "outputs": [],
   "source": [
    "def baixar_relatorio():\n",
    "    \n",
    "    colunas = ['numero_os', 'data_prevista', 'unidade_negocio',\n",
    "       'denominacao_unidade_negocio', 'fornecedor','usuario_ultima_modificacao',\n",
    "       'data_ultima_modificacao','perfil_usuario','apelido', 'rede', 'vidaos']\n",
    "\n",
    "    df.to_excel('automatização_relatorio_vistorias_BC.xlsx',index=False)\n",
    "    df.to_excel('automatização_relatorio_vistorias.xlsx',columns=colunas,index=False)\n",
    "\n",
    "baixar_relatorio()"
   ]
  },
  {
   "cell_type": "code",
   "execution_count": null,
   "metadata": {},
   "outputs": [],
   "source": [
    "df.columns"
   ]
  },
  {
   "cell_type": "code",
   "execution_count": null,
   "metadata": {},
   "outputs": [],
   "source": [
    "colunas = ['numero_os', 'data_prevista', 'unidade_negocio',\n",
    "       'denominacao_unidade_negocio', 'fornecedor','usuario_ultima_modificacao',\n",
    "       'data_ultima_modificacao','perfil_usuario','apelido', 'rede', 'vidaos']"
   ]
  },
  {
   "cell_type": "code",
   "execution_count": null,
   "metadata": {},
   "outputs": [],
   "source": [
    "df.head()"
   ]
  },
  {
   "cell_type": "code",
   "execution_count": null,
   "metadata": {},
   "outputs": [],
   "source": [
    "rv.analise_descritiva()"
   ]
  },
  {
   "cell_type": "code",
   "execution_count": null,
   "metadata": {},
   "outputs": [],
   "source": [
    "def validacao_final():\n",
    "    if rv.df.shape[0] == df.shape[0]:\n",
    "        return(\"Quantidade de registros ok!\")\n",
    "    else:\n",
    "        if rv.df.shape[0]-df.shape[0]< rv.df.shape[0]:\n",
    "            return(\"Após tratamento, linhas de registro foram perdidas.\")\n",
    "        else:\n",
    "            return(\"Após tratamento, linhas de registro foram adicionadas\")\n",
    "\n",
    "validacao_final()"
   ]
  },
  {
   "cell_type": "code",
   "execution_count": 16,
   "metadata": {},
   "outputs": [
    {
     "name": "stdout",
     "output_type": "stream",
     "text": [
      "Foi localizado os seguintes arquivos:\n",
      "\n",
      "1 - automatização_relatorio_vistorias.xlsx;\n",
      "2 - automatização_relatorio_vistorias_BC.xlsx;\n",
      "3 - ModeloBase_COLARAQUI_V5_14042020_RelatórioAmerico.xlsm;\n",
      "4 - Ordens de Serviço. 00001_RelatorioDeVistoria_17022020 - 2020-09-22T190844.816.xlsx;\n",
      "5 - Relatorio_De_Vistorias_Preventivas_v_Teste.xlsb;\n",
      "6 - ~$automatização_relatorio_vistorias.xlsx;\n",
      "7 - ~$automatização_relatorio_vistorias_BC.xlsx;\n",
      "\n",
      "Com qual arquivo você deseja trabalhar?\n"
     ]
    }
   ],
   "source": [
    "def planilha_mensal():\n",
    "    import os\n",
    "    \n",
    "    c_bm = 'C:\\\\Users\\\\mkonj\\Python\\\\arquivosDados\\\\relatorio_de_vistorias'\n",
    "    bm = os.chdir(c_bm)\n",
    "\n",
    "    i=0\n",
    "    \n",
    "    print('Foi localizado os seguintes arquivos:')\n",
    "    print('')\n",
    "        \n",
    "    for item in os.listdir(bm):\n",
    "        i=i + 1\n",
    "        print(i,'-',item+';')\n",
    "        \n",
    "    print('')\n",
    "    print('Com qual arquivo você deseja trabalhar?')\n",
    "\n",
    "planilha_mensal()\n",
    "\n"
   ]
  },
  {
   "cell_type": "code",
   "execution_count": 29,
   "metadata": {},
   "outputs": [],
   "source": []
  },
  {
   "cell_type": "code",
   "execution_count": 32,
   "metadata": {},
   "outputs": [
    {
     "name": "stdout",
     "output_type": "stream",
     "text": [
      "2020\n",
      "9\n",
      "25\n",
      "18\n",
      "41\n",
      "43\n",
      "2020-09-25 18:41:43.472710\n"
     ]
    }
   ],
   "source": [
    "now = datetime.now()\n",
    "print(now.year)\n",
    "print(now.month)\n",
    "print(now.day)\n",
    "print(now.hour)\n",
    "print(now.minute)\n",
    "print(now.second)\n",
    "print(now)"
   ]
  },
  {
   "cell_type": "code",
   "execution_count": 34,
   "metadata": {},
   "outputs": [
    {
     "data": {
      "text/plain": [
       "datetime.date(2020, 9, 25)"
      ]
     },
     "execution_count": 34,
     "metadata": {},
     "output_type": "execute_result"
    }
   ],
   "source": [
    "now.date()"
   ]
  },
  {
   "cell_type": "code",
   "execution_count": 35,
   "metadata": {},
   "outputs": [
    {
     "data": {
      "text/plain": [
       "5"
      ]
     },
     "execution_count": 35,
     "metadata": {},
     "output_type": "execute_result"
    }
   ],
   "source": [
    "now.isoweekday()"
   ]
  },
  {
   "cell_type": "code",
   "execution_count": 38,
   "metadata": {},
   "outputs": [
    {
     "data": {
      "text/plain": [
       "datetime.date(2020, 9, 25)"
      ]
     },
     "execution_count": 38,
     "metadata": {},
     "output_type": "execute_result"
    }
   ],
   "source": [
    "now.date()"
   ]
  },
  {
   "cell_type": "code",
   "execution_count": 45,
   "metadata": {},
   "outputs": [
    {
     "name": "stdout",
     "output_type": "stream",
     "text": [
      "2020-09-25 18:41:43.472710\n"
     ]
    }
   ],
   "source": [
    "print(now)"
   ]
  },
  {
   "cell_type": "code",
   "execution_count": 47,
   "metadata": {},
   "outputs": [
    {
     "name": "stdout",
     "output_type": "stream",
     "text": [
      "18:41:43.472710\n"
     ]
    }
   ],
   "source": [
    "print(now.time())"
   ]
  },
  {
   "cell_type": "code",
   "execution_count": 67,
   "metadata": {},
   "outputs": [
    {
     "ename": "TypeError",
     "evalue": "combine() argument 2 must be datetime.time, not int",
     "output_type": "error",
     "traceback": [
      "\u001b[1;31m---------------------------------------------------------------------------\u001b[0m",
      "\u001b[1;31mTypeError\u001b[0m                                 Traceback (most recent call last)",
      "\u001b[1;32m<ipython-input-67-dd6d36a23cc2>\u001b[0m in \u001b[0;36m<module>\u001b[1;34m\u001b[0m\n\u001b[1;32m----> 1\u001b[1;33m \u001b[0mprint\u001b[0m\u001b[1;33m(\u001b[0m\u001b[0mnow\u001b[0m\u001b[1;33m.\u001b[0m\u001b[0mcombine\u001b[0m\u001b[1;33m(\u001b[0m\u001b[0mnow\u001b[0m\u001b[1;33m.\u001b[0m\u001b[0mdate\u001b[0m\u001b[1;33m(\u001b[0m\u001b[1;33m)\u001b[0m\u001b[1;33m,\u001b[0m \u001b[0mnow\u001b[0m\u001b[1;33m.\u001b[0m\u001b[0mhour\u001b[0m\u001b[1;33m)\u001b[0m\u001b[1;33m)\u001b[0m\u001b[1;33m\u001b[0m\u001b[1;33m\u001b[0m\u001b[0m\n\u001b[0m",
      "\u001b[1;31mTypeError\u001b[0m: combine() argument 2 must be datetime.time, not int"
     ]
    }
   ],
   "source": [
    "print(now.combine(now.date(), now.hour))"
   ]
  },
  {
   "cell_type": "code",
   "execution_count": 71,
   "metadata": {},
   "outputs": [
    {
     "data": {
      "text/plain": [
       "18"
      ]
     },
     "execution_count": 71,
     "metadata": {},
     "output_type": "execute_result"
    }
   ],
   "source": [
    "now.hour"
   ]
  },
  {
   "cell_type": "code",
   "execution_count": 70,
   "metadata": {},
   "outputs": [
    {
     "data": {
      "text/plain": [
       "datetime.datetime(2020, 9, 25, 18, 41, 43, 472710)"
      ]
     },
     "execution_count": 70,
     "metadata": {},
     "output_type": "execute_result"
    }
   ],
   "source": [
    "now"
   ]
  },
  {
   "cell_type": "code",
   "execution_count": 79,
   "metadata": {},
   "outputs": [
    {
     "data": {
      "text/plain": [
       "['automatização_relatorio_vistorias.xlsx',\n",
       " 'automatização_relatorio_vistorias_BC.xlsx',\n",
       " 'ModeloBase_COLARAQUI_V5_14042020_RelatórioAmerico.xlsm',\n",
       " 'Ordens de Serviço. 00001_RelatorioDeVistoria_17022020 - 2020-09-22T190844.816.xlsx',\n",
       " 'Relatorio_De_Vistorias_Preventivas_v_Teste.xlsb']"
      ]
     },
     "execution_count": 79,
     "metadata": {},
     "output_type": "execute_result"
    }
   ],
   "source": [
    "os.listdir()"
   ]
  },
  {
   "cell_type": "code",
   "execution_count": 94,
   "metadata": {},
   "outputs": [],
   "source": [
    "teste = pd.ExcelFile('Relatorio_De_Vistorias_Preventivas_v_Teste.xlsm')"
   ]
  },
  {
   "cell_type": "code",
   "execution_count": 96,
   "metadata": {},
   "outputs": [
    {
     "data": {
      "text/plain": [
       "['HistóricoMensal',\n",
       " 'DIGITALIZAÇÃO(APOIO)',\n",
       " 'COOR_VDDINAMICA',\n",
       " 'Coordenação',\n",
       " 'Gerencia',\n",
       " 'BaseCoordenação']"
      ]
     },
     "execution_count": 96,
     "metadata": {},
     "output_type": "execute_result"
    }
   ],
   "source": [
    "teste.sheet_names"
   ]
  },
  {
   "cell_type": "code",
   "execution_count": 97,
   "metadata": {},
   "outputs": [],
   "source": [
    "teste1 = pd.read_excel(teste,'BaseCoordenação')"
   ]
  },
  {
   "cell_type": "code",
   "execution_count": 107,
   "metadata": {},
   "outputs": [
    {
     "ename": "SyntaxError",
     "evalue": "invalid syntax (<ipython-input-107-b365427518f9>, line 1)",
     "output_type": "error",
     "traceback": [
      "\u001b[1;36m  File \u001b[1;32m\"<ipython-input-107-b365427518f9>\"\u001b[1;36m, line \u001b[1;32m1\u001b[0m\n\u001b[1;33m    teste1.drop(labels=[0::])\u001b[0m\n\u001b[1;37m                         ^\u001b[0m\n\u001b[1;31mSyntaxError\u001b[0m\u001b[1;31m:\u001b[0m invalid syntax\n"
     ]
    }
   ],
   "source": [
    "teste1.drop(labels=[0::])"
   ]
  },
  {
   "cell_type": "code",
   "execution_count": 106,
   "metadata": {},
   "outputs": [
    {
     "name": "stdout",
     "output_type": "stream",
     "text": [
      "1.08 µs ± 206 ns per loop (mean ± std. dev. of 7 runs, 1000000 loops each)\n"
     ]
    }
   ],
   "source": [
    "%%timeit\n",
    "teste1.shape"
   ]
  },
  {
   "cell_type": "code",
   "execution_count": null,
   "metadata": {},
   "outputs": [],
   "source": []
  }
 ],
 "metadata": {
  "kernelspec": {
   "display_name": "Python 3",
   "language": "python",
   "name": "python3"
  },
  "language_info": {
   "codemirror_mode": {
    "name": "ipython",
    "version": 3
   },
   "file_extension": ".py",
   "mimetype": "text/x-python",
   "name": "python",
   "nbconvert_exporter": "python",
   "pygments_lexer": "ipython3",
   "version": "3.7.7"
  }
 },
 "nbformat": 4,
 "nbformat_minor": 4
}
